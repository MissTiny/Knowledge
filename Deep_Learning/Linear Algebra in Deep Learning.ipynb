{
 "cells": [
  {
   "cell_type": "markdown",
   "id": "48cbaa00-0ac1-4ce6-8643-45fd7657c985",
   "metadata": {},
   "source": [
    "# Linear Algebra in Deep Learning with Numpy library\n",
    "This notebook contains basic linear algebra knowledge that will be used in deep learning context. Most of the content comes from [Goodfellow, I. (2016). Deep learning. Chapter 2](https://www.deeplearningbook.org/contents/linear_algebra.html) and combined with corresponding useful numpy packages."
   ]
  },
  {
   "cell_type": "code",
   "execution_count": 2,
   "id": "22e255f3",
   "metadata": {
    "vscode": {
     "languageId": "plaintext"
    }
   },
   "outputs": [],
   "source": [
    "# potential useful packages\n",
    "import numpy as np"
   ]
  },
  {
   "cell_type": "markdown",
   "id": "8bf117eb-2936-47bf-a118-8f7ba74bf0f6",
   "metadata": {},
   "source": [
    "## 1. Scalars, Vectors, Matrices and Tensors"
   ]
  },
  {
   "cell_type": "markdown",
   "id": "b78bf987",
   "metadata": {
    "vscode": {
     "languageId": "plaintext"
    }
   },
   "source": [
    "Linear algebra involves three types of mathematical objects:"
   ]
  },
  {
   "cell_type": "markdown",
   "id": "35a534e2",
   "metadata": {
    "vscode": {
     "languageId": "plaintext"
    }
   },
   "source": [
    "- **Scalars *a***: A scalar is a single number which is usually written in lowercase italics format. It could be integers, real, natural number, etc. In terms of numpy code, we will have the following representation:"
   ]
  },
  {
   "cell_type": "code",
   "execution_count": 3,
   "id": "6f3a6dc2",
   "metadata": {
    "vscode": {
     "languageId": "plaintext"
    }
   },
   "outputs": [],
   "source": [
    "a = 16\n",
    "b = 1.5"
   ]
  },
  {
   "cell_type": "markdown",
   "id": "301e8d8c-8fdb-4b78-9c47-f63ed73ce748",
   "metadata": {},
   "source": [
    "- **Vectors** $\\mathbf{x}$: A vector is an array of numbers,represented by lowercase in bold. The element of the vector are written in italic with the same name and a subscript indicating the order. Vectors by default are considered as a column vector with shape $(n,1)$. It can be represented a follows:\n",
    "\n",
    "$$\\mathbf{x} = \\begin{bmatrix}x_1 \\\\ x_2 \\\\ \\vdots \\\\ x_n \\end{bmatrix}$$\n",
    "\n",
    "> The first element of $\\mathbf{x}$ is $x_1$, the second element is $x_2$ and so on. If each element is in $\\mathbb{R}$ and the vector has $n$ elements, then the vector lies in the set formed by taking the Cartesian product of $\\mathbb{R}$ n times, denoted as $\\mathbb{R}^n$"
   ]
  },
  {
   "cell_type": "code",
   "execution_count": 35,
   "id": "e86d9fd7-6db8-4efa-b996-b3772ad7259a",
   "metadata": {},
   "outputs": [
    {
     "name": "stdout",
     "output_type": "stream",
     "text": [
      "Assume that x is a vector of [1,2,3]. Then we can convert it to NumPy array as follows\n",
      "[1 2 3]\n",
      "with the shape of (3,). Note that (3,) is a 1D dimension. It could be used as (3,1) or (1,3).\n"
     ]
    }
   ],
   "source": [
    "x = np.array([1,2,3])\n",
    "print(f'''Assume that x is a vector of [1,2,3]. Then we can convert it to NumPy array as follows\n",
    "{x}\n",
    "with the shape of {x.shape}. Note that (3,) is a 1D dimension. It could be used as (3,1) or (1,3).''')"
   ]
  },
  {
   "cell_type": "markdown",
   "id": "09958c4b-e635-464c-b51e-a344b3efc8bf",
   "metadata": {},
   "source": [
    "- **Matrices** $\\mathbf{A}$: A matrix is a 2-D array of numbers, so each element is identified by two indices instead of just one. It is represented with uppercase name with bold.\n",
    "\n",
    "$$\\mathbf{A} = \\begin{bmatrix}A_{1,1} & A_{1,2} \\\\ A_{2,1} & A_{2,2} \\end{bmatrix}$$\n",
    "\n",
    "> If each element in $\\mathbf{A}$ is $\\mathbb{R}$ and the matrix has a height of $m$ and a width of $n$, then we say $\\mathbf{A} \\in \\mathbb{R}^{m \\times n}$. The element is represented by its name in italics and the subscripts $(i,j)$. $A_{i,j}$ refers to the element located at the ith row and j's column. We can use $A_{i,:}$ to represent the row vector at ith row. And $A_{:,j}$ to represent the column vector at jth column. Besides, $f(\\mathbf{A})_{i,j}$ gives element $(i,j)$ of the matrix computed by applying the function $f$ to $\\mathbf{A}$"
   ]
  },
  {
   "cell_type": "code",
   "execution_count": 33,
   "id": "f7fc2fe3-4a15-4982-a735-720d3a5009bd",
   "metadata": {},
   "outputs": [
    {
     "name": "stdout",
     "output_type": "stream",
     "text": [
      "Assume that A is a 2x2 matrix. Then we can convert it to NumPy array as follows\n",
      "[[1 2]\n",
      " [3 4]]\n",
      "with the shape of (2, 2).\n"
     ]
    }
   ],
   "source": [
    "A = np.array([[1,2],[3,4]])\n",
    "print(f'''Assume that A is a 2x2 matrix. Then we can convert it to NumPy array as follows\n",
    "{A}\n",
    "with the shape of {A.shape}.''')"
   ]
  },
  {
   "cell_type": "markdown",
   "id": "4e8bac83-3000-41cc-b00d-7a04842c4e97",
   "metadata": {},
   "source": [
    "- **Tensors** **A**: Tensors refers to araay with more than two axes. For example, the element in three dimension tensors will be denoted as $\\mathbf{A}_{i,j,k}$"
   ]
  },
  {
   "cell_type": "code",
   "execution_count": 32,
   "id": "3059310e-18eb-4bee-8098-187e0b350f07",
   "metadata": {},
   "outputs": [
    {
     "name": "stdout",
     "output_type": "stream",
     "text": [
      "Assume that A is a 2x3x4 tensor. Then we can convert it to NumPy array as follows\n",
      "[[[0.90429045 0.51346806 0.51058203 0.77640878]\n",
      "  [0.55438188 0.38068479 0.74452339 0.76922769]\n",
      "  [0.43752228 0.18290167 0.91413351 0.14065467]]\n",
      "\n",
      " [[0.74316206 0.20264338 0.16512099 0.75602439]\n",
      "  [0.93776713 0.93973664 0.85236632 0.81140926]\n",
      "  [0.63777136 0.15546842 0.65456628 0.02069073]]]\n",
      "with the shape of (2, 3, 4).\n"
     ]
    }
   ],
   "source": [
    "A = np.random.rand(2,3,4)\n",
    "print(f'''Assume that A is a 2x3x4 tensor. Then we can convert it to NumPy array as follows\n",
    "{A}\n",
    "with the shape of {A.shape}.''')"
   ]
  },
  {
   "cell_type": "markdown",
   "id": "9a54f93c-384b-40f3-b295-b680472b16b7",
   "metadata": {},
   "source": [
    "## Transpose\n",
    "Next, we will look into **transpose**. The transpose of a matrix is the mirror image of the matrix across a diagonal line, called the **main diagonal**, running down to the right, starting from its upper left corner, represented as $[A_{1,1},A_{2,2}]$ given the matrix below.\n",
    "\n",
    "$$\\mathbf{A} = \\begin{bmatrix}A_{1,1} & A_{1,2} \\\\ A_{2,1} & A_{2,2}\\\\ A_{3,1} & A_{3,2} \\end{bmatrix}$$\n",
    "\n",
    "The transpose of a matrix $\\mathbf{A}$, denoted as $\\mathbf{A}^T$.\n",
    "\n",
    "$$(\\mathbf{A}^T)_{i,j} = A_{j,i}$$\n",
    "\n",
    "Therefore, the transpose matrix of a $(m\\times n)$ matrix will be in shape $(n \\times m)$\n",
    "$$\\mathbf{A} = \\begin{bmatrix}A_{1,1} & A_{1,2} \\\\ A_{2,1} & A_{2,2}\\\\ A_{3,1} & A_{3,2} \\end{bmatrix}$$\n",
    "$$\\mathbf{A}^T = \\begin{bmatrix}A_{1,1} & A_{2,1} & A_{3,1} \\\\ A_{1,2} & A_{2,2} & A_{3,2} \\end{bmatrix}$$\n",
    "\n",
    "Now, let's apply the transpose to different types of objects in the Numpy library. With the Numpy library, we use the function [transpose](https://numpy.org/doc/stable/reference/generated/numpy.transpose.html). "
   ]
  },
  {
   "cell_type": "markdown",
   "id": "3f83eb04-53b0-4171-962d-b7910e61262f",
   "metadata": {},
   "source": [
    "```numpy.transpose```: <br>\n",
    "For scalar, it returns the same original scalar <br>\n",
    "For 1-D array, such as ```x=[1,2,3]```, it returns the same original array. <br>\n",
    "For 2-D array, this is a standard matrix transpose.<br>\n",
    "For an n-D array, if the axes are given, the axes indicates how the axes are permuted. If the axes are not provided, then ```transpose(a).shape == a.shape[::-1]```, which means order reversed. <br>\n",
    "Transpose can be achieved with code ```numpy.transpose(a, axes)``` or ```a.T``` or ```a.transpose()```.\n"
   ]
  },
  {
   "cell_type": "code",
   "execution_count": 46,
   "id": "81ca2b4d-a0e8-41e8-912a-10efb8ec1150",
   "metadata": {},
   "outputs": [
    {
     "name": "stdout",
     "output_type": "stream",
     "text": [
      "=========Scalar==========\n",
      "scalar a is 1, with the shape of (). Its transpose is 1.\n",
      "========Vector==========\n",
      "vector x is [1 2 3], with the shape of (3,). Its transpose is [1 2 3] with the shape of (3,)\n",
      "========Matrix==========\n",
      "Matrix A is \n",
      " [[0.62973542 0.48580326 0.00715737]\n",
      " [0.83683936 0.45504935 0.69064289]]\n",
      "with the shape of (2, 3). Its transpose is \n",
      "[[0.62973542 0.83683936]\n",
      " [0.48580326 0.45504935]\n",
      " [0.00715737 0.69064289]]\n",
      "with the shape of (3, 2)\n",
      "========Tensors==========\n",
      "Matrix A is \n",
      "[[[0.42537071 0.64978069 0.56510938 0.11906118]\n",
      "  [0.691248   0.00104459 0.55017754 0.90614339]\n",
      "  [0.87149028 0.00828296 0.4460087  0.06388437]]\n",
      "\n",
      " [[0.84921842 0.27944867 0.62701422 0.67875341]\n",
      "  [0.59908552 0.64888357 0.04152135 0.17798288]\n",
      "  [0.39932848 0.37564803 0.8194944  0.19858984]]]\n",
      "with the shape of (2, 3, 4). Its transpose with axes (1, 2, 0) is \n",
      "[[[0.42537071 0.84921842]\n",
      "  [0.64978069 0.27944867]\n",
      "  [0.56510938 0.62701422]\n",
      "  [0.11906118 0.67875341]]\n",
      "\n",
      " [[0.691248   0.59908552]\n",
      "  [0.00104459 0.64888357]\n",
      "  [0.55017754 0.04152135]\n",
      "  [0.90614339 0.17798288]]\n",
      "\n",
      " [[0.87149028 0.39932848]\n",
      "  [0.00828296 0.37564803]\n",
      "  [0.4460087  0.8194944 ]\n",
      "  [0.06388437 0.19858984]]]\n",
      "with the shape of (3, 4, 2)\n",
      "If there is no axes specified, its transpose will be \n",
      "[[[0.42537071 0.84921842]\n",
      "  [0.691248   0.59908552]\n",
      "  [0.87149028 0.39932848]]\n",
      "\n",
      " [[0.64978069 0.27944867]\n",
      "  [0.00104459 0.64888357]\n",
      "  [0.00828296 0.37564803]]\n",
      "\n",
      " [[0.56510938 0.62701422]\n",
      "  [0.55017754 0.04152135]\n",
      "  [0.4460087  0.8194944 ]]\n",
      "\n",
      " [[0.11906118 0.67875341]\n",
      "  [0.90614339 0.17798288]\n",
      "  [0.06388437 0.19858984]]] \n",
      "with the shape of (4, 3, 2), which equals to (4, 3, 2) as described above.\n",
      "\n"
     ]
    }
   ],
   "source": [
    "# Scalar: a scalar is its own transpose \n",
    "print(f'=========Scalar==========')\n",
    "a = np.array(1)\n",
    "print(f'scalar a is {a}, with the shape of {a.shape}. Its transpose is {a.T}.')\n",
    "\n",
    "# Vector: a column vector can be represented by x=[x1,x2,x3]^T\n",
    "print(f'========Vector==========')\n",
    "x=np.array([1,2,3])\n",
    "print(f'vector x is {x}, with the shape of {x.shape}. Its transpose is {x.T} with the shape of {x.T.shape}')\n",
    "\n",
    "# Matrix: a standard transpose\n",
    "print(f'========Matrix==========')\n",
    "A = np.random.rand(2,3)\n",
    "print(f'Matrix A is \\n {A}\\nwith the shape of {A.shape}. Its transpose is \\n{A.T}\\nwith the shape of {A.T.shape}')\n",
    "\n",
    "# Tensors: axes are used to define the order to permuted\n",
    "print(f'========Tensors==========')\n",
    "A = np.random.rand(2,3,4)\n",
    "print(f'''Matrix A is \n",
    "{A}\n",
    "with the shape of {A.shape}. Its transpose with axes {(1,2,0)} is \n",
    "{A.transpose(1,2,0)}\n",
    "with the shape of {A.transpose(1,2,0).shape}\n",
    "If there is no axes specified, its transpose will be \n",
    "{A.transpose()} \n",
    "with the shape of {A.transpose().shape}, which equals to {A.shape[::-1]} as described above.\n",
    "''')\n",
    "\n"
   ]
  },
  {
   "cell_type": "markdown",
   "id": "27fe908c-6cb7-46e4-9577-790bd2e8feca",
   "metadata": {},
   "source": [
    "##  Addition and Broadcasting\n",
    "\n",
    "Matrices can add to each other as long as they have the same shape. $\\mathbf{C}=\\mathbf{A}+\\mathbf{B}$ means $\\mathbf{C}_{i,j}=\\mathbf{A}_{i,j}+\\mathbf{B}_{i,j}$ <br>\n",
    ">Here is the link to [numpy add function](https://numpy.org/doc/stable/reference/generated/numpy.add.html). More specifically, addition can be performed through ```np.add(x1,x2)``` or simply ```x1+x2```\n",
    "\n",
    "A Scalar can be added or multiply a matrix. $\\mathbf{D}=a \\cdot \\mathbf{B} + c$ means $\\mathbf{D}_{i,j}=a \\cdot \\mathbf{B}_{i,j}+c$\n",
    "\n",
    "A vector can be added to a matrix. $\\mathbf{C}=\\mathbf{A}+\\mathbf{b}$ means $\\mathbf{C}_{i,j}=\\mathbf{A}_{i,j}+\\mathbf{b}_j$ In order words, the vector $\\mathbf{b}$ is added to each row of the matrix. This implicit copying of $\\mathbf{b}$ is called broadcasting. Note that $\\mathbf{b}$ needs to have the length as the column numbers in $\\mathbf{A}$.\n"
   ]
  },
  {
   "cell_type": "code",
   "execution_count": 45,
   "id": "e0b3e172-9551-4ec8-938c-65fbf7b1c211",
   "metadata": {},
   "outputs": [
    {
     "name": "stdout",
     "output_type": "stream",
     "text": [
      "=========Matrix Addition==========\n",
      "Matrix Addition: C = A + B where A is\n",
      "[[0.09594255 0.70736944 0.93644153]\n",
      " [0.17836344 0.71707368 0.57324095]]\n",
      "with A's shape of (2, 3) and B is \n",
      "[[0.70167053 0.72664501 0.52842336]\n",
      " [0.317407   0.07947515 0.05825339]]\n",
      "with B's shape of (2, 3) Therefore, C is\n",
      "[[0.79761308 1.43401445 1.46486489]\n",
      " [0.49577044 0.79654883 0.63149435]]\n",
      "with C's shape (2, 3)\n",
      "=========Scalar Addition or Multiplication with Matrix==========\n",
      "Scalar Addition or Multiplication with Matrix: D = aB +c where B is\n",
      "[[0.64285344 0.95243844 0.4865877 ]\n",
      " [0.53803726 0.16630698 0.29865821]]\n",
      "with B's shape of (2, 3) and a is 10, c is 1. Therefore, D is\n",
      "[[ 7.42853437 10.52438439  5.86587701]\n",
      " [ 6.38037262  2.66306981  3.98658208]]\n",
      "with D's shape (2, 3)\n",
      "=========Broadcasting Vector Addition to Matrix==========\n",
      "Broadcasting Vector Addition to Matrix: C = A + b where A is\n",
      "[[0.41230429 0.37491798 0.57669525]\n",
      " [0.59736341 0.35173594 0.79662354]]\n",
      "with A's shape of (2, 3) and b is \n",
      "[1 2 3] \n",
      "with b's shape of (3,). Therefore,  C is\n",
      "[[1.41230429 2.37491798 3.57669525]\n",
      " [1.59736341 2.35173594 3.79662354]]\n",
      "with D's shape (2, 3)\n"
     ]
    }
   ],
   "source": [
    "# Matrix Add Matrix\n",
    "print(f'=========Matrix Addition==========')\n",
    "A = np.random.rand(2,3)\n",
    "B = np.random.rand(2,3)\n",
    "C = A + B\n",
    "print(f'''Matrix Addition: C = A + B where A is\n",
    "{A}\n",
    "with A's shape of {A.shape} and B is \n",
    "{B}\n",
    "with B's shape of {B.shape} Therefore, C is\n",
    "{C}\n",
    "with C's shape {C.shape}''')\n",
    "\n",
    "print(f'=========Scalar Addition or Multiplication with Matrix==========')\n",
    "B = np.random.rand(2,3)\n",
    "a = 10\n",
    "c = 1\n",
    "D = a*B+c\n",
    "print(f'''Scalar Addition or Multiplication with Matrix: D = aB +c where B is\n",
    "{B}\n",
    "with B's shape of {B.shape} and a is {a}, c is {c}. Therefore, D is\n",
    "{D}\n",
    "with D's shape {D.shape}''')\n",
    "\n",
    "print(f'=========Broadcasting Vector Addition to Matrix==========')\n",
    "A = np.random.rand(2,3)\n",
    "b = np.arange(3)+1\n",
    "C = A + b\n",
    "print(f'''Broadcasting Vector Addition to Matrix: C = A + b where A is\n",
    "{A}\n",
    "with A's shape of {A.shape} and b is \n",
    "{b} \n",
    "with b's shape of {b.shape}. Therefore,  C is\n",
    "{C}\n",
    "with D's shape {C.shape}''')\n"
   ]
  },
  {
   "cell_type": "code",
   "execution_count": null,
   "id": "0b2aed6c-ba1a-4d1c-8094-1e5b42626a57",
   "metadata": {},
   "outputs": [],
   "source": []
  }
 ],
 "metadata": {
  "kernelspec": {
   "display_name": "Python 3 (ipykernel)",
   "language": "python",
   "name": "python3"
  },
  "language_info": {
   "codemirror_mode": {
    "name": "ipython",
    "version": 3
   },
   "file_extension": ".py",
   "mimetype": "text/x-python",
   "name": "python",
   "nbconvert_exporter": "python",
   "pygments_lexer": "ipython3",
   "version": "3.12.7"
  }
 },
 "nbformat": 4,
 "nbformat_minor": 5
}
