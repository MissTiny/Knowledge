{
 "cells": [
  {
   "cell_type": "markdown",
   "id": "d0ab300e-e58a-4fc8-9c64-d65beb99c52d",
   "metadata": {},
   "source": [
    "# Deep Generative Model\n",
    "This is a study note for Stanford CS236 Deep Generative Model.\n",
    "Additional Resources:\n",
    "[Course Github Notes](https://deepgenerativemodels.github.io/notes/)"
   ]
  },
  {
   "cell_type": "markdown",
   "id": "2308b170-4220-4cf6-bab2-08a2ea21c843",
   "metadata": {},
   "source": [
    "## Module 1: Introduction to Generative Models\n",
    "- Suggest Readings:\n",
    "    - [Deep Generative Models](https://ermongroup.github.io/generative-models/)\n",
    "    - [Generative Modeling by Estimating Gradients of the Data Distribution](https://yang-song.net/blog/2021/score/)\n",
    "    - [Tutorial on Deep Generative Models](https://www.youtube.com/watch?v=JrO5fSskISY)\n",
    "    - [Learning Deep Generative Models](https://www.cs.cmu.edu/~rsalakhu/papers/annrev.pdf)"
   ]
  },
  {
   "cell_type": "markdown",
   "id": "d802ea3a-8704-443f-9a9b-00e25a53c120",
   "metadata": {},
   "source": [
    "### What is Generative Modeling?"
   ]
  },
  {
   "cell_type": "markdown",
   "id": "025b95b5-03bd-44e7-97dc-773a613b7d33",
   "metadata": {},
   "source": [
    "**Generative Models** contains two parts:\n",
    "- **Generation (graphics)**: From high level description to raw sensory outputs \n",
    "- **Inference (vision as inverse graphics)**: From Raw sensory outputs to high level descriptions.\n",
    "\n",
    "**Statistical** Generative Models are **learned from data**.\n",
    "This course depends less on prior data but computer graphics deeps on more.\n",
    "\n"
   ]
  },
  {
   "cell_type": "markdown",
   "id": "245f35f8-4978-43c4-bb90-f247045ebf23",
   "metadata": {},
   "source": [
    "#### Statistical Generative Models"
   ]
  },
  {
   "cell_type": "markdown",
   "id": "8e52c910-ba2f-47eb-b1fa-4a10c8f51ad0",
   "metadata": {},
   "source": [
    "\n",
    "A **statistical generative** model is a probability distribution p(x):\n",
    "- **Data**: Samples\n",
    "- **Prior Knowledge**: parametric form, loss function, optimization algorithm\n",
    "\n",
    "Image x $\\rightarrow$ A probability distribution p(x) $\\rightarrow$ scalar probability p(x)\n",
    "\n",
    "It is generative because sampling from p(x) generates new images.\n",
    "\n",
    "It can be used to build a simulator for the data-generating process.\n",
    "\n",
    "Control Signals/Potential datapoints $\\rightarrow$ Data Simulator = Statistical Model = Generative Model $\\rightarrow$ New datapoints/Probability values\n"
   ]
  },
  {
   "cell_type": "markdown",
   "id": "bf514e95-ca16-47f7-b87b-248113dce09e",
   "metadata": {},
   "source": [
    "### Audio and Image Applications of Generative Models"
   ]
  },
  {
   "cell_type": "markdown",
   "id": "2d4c1b1c-5ddf-426c-8a17-11b109e62df2",
   "metadata": {},
   "source": [
    "- Data Generation in the real world\n",
    "    - Text to Image: [Language-guided artwork creation](https://chainbreakers.kath.io/)\n",
    "    - Draw Image to Realistic Images[Meng, He, Song et al ICLR 2022](https://arxiv.org/abs/2108.01073)\n",
    "- Solving inverse problems with generative models\n",
    "    - Medical image reconstruction [Song et al ICLR 2022](https://arxiv.org/abs/2111.08005)\n",
    "- Outlier Detection with genertive models\n",
    "    - Outlier Detection [Song et al ICLR 2018](https://arxiv.org/abs/1710.10766)\n",
    "- Progress in Generative Models of Images\n",
    "    - GANs [Ian Goodfellow 2019](https://arxiv.org/abs/1406.2661)\n",
    "    - Diffusion Models [Song et al 2021](https://arxiv.org/abs/2101.09258)\n",
    "        - Text2Image Diffusion Models\n",
    "- Progress in Inverse Problems\n",
    "    -  Low Resolution $\\rightarrow$ High resolution [Menon et al, 2020](https://arxiv.org/abs/2003.03808)\n",
    "    -  Mask $\\rightarrow$ Full Image [Liu et al 2018](https://arxiv.org/abs/1804.07723)\n",
    "    -  Greyscale Images $\\rightarrow$  Color Image\n",
    "    -  Scatch $\\rightarrow$ Fine Image\n",
    "    -  Origin Images $\\rightarrow$ Edited Images\n",
    "-  Audio\n",
    "    - WaveNet[van den Oord et al 2016c](https://arxiv.org/abs/1609.03499)\n",
    "    - Diffusion Text2Speech [Betker, Better Speech Synthesis through scaling 2023](https://arxiv.org/abs/2305.07243)\n",
    "    - Conditional Generative Model: Low-Resolution Audio Signal $\\rightarrow$ High-Resolution Audio Signal"
   ]
  },
  {
   "cell_type": "markdown",
   "id": "f1af7571-94e6-4d2f-9963-28702c2f5802",
   "metadata": {},
   "source": [
    "### Language, Video, and Robotic Applications of Generative Models"
   ]
  },
  {
   "cell_type": "markdown",
   "id": "19dd890d-1ff2-46bb-a5c7-85c283bf8ba7",
   "metadata": {},
   "source": [
    "- Language Generation [Radford et al 2019](https://insightcivic.s3.us-east-1.amazonaws.com/language-models.pdf)\n",
    "    - Conditional Generative Model *P(next word | previous word)*\n",
    "    - ChatGPT\n",
    "- Machine Translation\n",
    "    - Conditional Generative Model *P(English Text | Chinese Text)*\n",
    "- Code Generation\n",
    "- Video Generation\n",
    "- Imitation Learning\n",
    "    - Conditional Generative Model *P(actions | past observations)* [Li et al 2017](https://arxiv.org/abs/1701.01036) | [Janner et al 2022](https://arxiv.org/abs/2205.09991)\n",
    "- Molecule Generation\n",
    "- DeepFake"
   ]
  },
  {
   "cell_type": "markdown",
   "id": "0e19860f-56e0-45e2-929f-d6e6b371789a",
   "metadata": {},
   "source": [
    "### Roadmap and Challenges in Generative Modeling"
   ]
  },
  {
   "cell_type": "markdown",
   "id": "5d0e77e9-a003-41c6-b619-c373093d4e6e",
   "metadata": {},
   "source": [
    "**Representation**: how do we model the joint distribution of many random variables?\n",
    "\n",
    "**Learning** What is the right way to compare probability distributions?\n",
    "\n",
    "**Inference** How do we invert the generation process"
   ]
  },
  {
   "cell_type": "markdown",
   "id": "ba2e91e2-8611-431d-b760-13d48329b93e",
   "metadata": {},
   "source": [
    "### Generative Model Curse of Dimensionality and Bayesian Networks"
   ]
  },
  {
   "cell_type": "code",
   "execution_count": null,
   "id": "d564d785-371a-466b-b210-5d54fe50c4d5",
   "metadata": {},
   "outputs": [],
   "source": []
  }
 ],
 "metadata": {
  "kernelspec": {
   "display_name": "Python 3 (ipykernel)",
   "language": "python",
   "name": "python3"
  },
  "language_info": {
   "codemirror_mode": {
    "name": "ipython",
    "version": 3
   },
   "file_extension": ".py",
   "mimetype": "text/x-python",
   "name": "python",
   "nbconvert_exporter": "python",
   "pygments_lexer": "ipython3",
   "version": "3.12.7"
  }
 },
 "nbformat": 4,
 "nbformat_minor": 5
}
