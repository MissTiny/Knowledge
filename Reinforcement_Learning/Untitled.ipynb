{
 "cells": [
  {
   "cell_type": "markdown",
   "id": "80761663-dbf4-42b3-b60d-7ccbb597cb1f",
   "metadata": {},
   "source": [
    "This is summary note for [Stanford XCS234 Reinforcement Learning](https://web.stanford.edu/class/cs234/). It contains some of my understanding and inference from learning process, while most of the notes are directly from the notes in course."
   ]
  },
  {
   "cell_type": "code",
   "execution_count": null,
   "id": "f8a6ec39-4135-4e77-9c63-f44722622dc7",
   "metadata": {},
   "outputs": [],
   "source": []
  }
 ],
 "metadata": {
  "kernelspec": {
   "display_name": "Python 3 (ipykernel)",
   "language": "python",
   "name": "python3"
  },
  "language_info": {
   "codemirror_mode": {
    "name": "ipython",
    "version": 3
   },
   "file_extension": ".py",
   "mimetype": "text/x-python",
   "name": "python",
   "nbconvert_exporter": "python",
   "pygments_lexer": "ipython3",
   "version": "3.12.7"
  }
 },
 "nbformat": 4,
 "nbformat_minor": 5
}
