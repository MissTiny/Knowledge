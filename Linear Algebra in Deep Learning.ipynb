{
 "cells": [
  {
   "cell_type": "markdown",
   "id": "48cbaa00-0ac1-4ce6-8643-45fd7657c985",
   "metadata": {},
   "source": [
    "# Linear Algebra in Deep Learning with Numpy library\n",
    "This notebook contains basic linear algebra knowledge that will be used in deep learning context. Most of the content comes from [Goodfellow, I. (2016). Deep learning. Chapter 2](https://www.deeplearningbook.org/contents/linear_algebra.html) and combined with corresponding useful numpy packages."
   ]
  },
  {
   "cell_type": "code",
   "execution_count": 2,
   "id": "22e255f3",
   "metadata": {
    "vscode": {
     "languageId": "plaintext"
    }
   },
   "outputs": [],
   "source": [
    "# potential useful packages\n",
    "import numpy as np"
   ]
  },
  {
   "cell_type": "markdown",
   "id": "8bf117eb-2936-47bf-a118-8f7ba74bf0f6",
   "metadata": {},
   "source": [
    "## 1. Scalars, Vectors, Matrices and Tensors"
   ]
  },
  {
   "cell_type": "markdown",
   "id": "b78bf987",
   "metadata": {
    "vscode": {
     "languageId": "plaintext"
    }
   },
   "source": [
    "Linear algebra involves three types of mathematical objects:"
   ]
  },
  {
   "cell_type": "markdown",
   "id": "35a534e2",
   "metadata": {
    "vscode": {
     "languageId": "plaintext"
    }
   },
   "source": [
    "- **Scalars *a***: A scalar is a single number which is usually written in lowercase italics format. It could be integers, real, natural number, etc. In terms of numpy code, we will have the following representation:"
   ]
  },
  {
   "cell_type": "code",
   "execution_count": 3,
   "id": "6f3a6dc2",
   "metadata": {
    "vscode": {
     "languageId": "plaintext"
    }
   },
   "outputs": [],
   "source": [
    "a = 16\n",
    "b = 1.5"
   ]
  },
  {
   "cell_type": "markdown",
   "id": "301e8d8c-8fdb-4b78-9c47-f63ed73ce748",
   "metadata": {},
   "source": [
    "- **Vectors** $\\mathbf{x}$: A vector is an array of numbers,represented by lowercase in bold. The element of the vector are written in italic with the same name and a subscript indicating the order. Vectors by default are considered as a column vector with shape $(n,1)$. It can be represented a follows:\n",
    "\n",
    "$$\\mathbf{x} = \\begin{bmatrix}x_1 \\\\ x_2 \\\\ \\vdots \\\\ x_n \\end{bmatrix}$$\n",
    "\n",
    "> The first element of $\\mathbf{x}$ is $x_1$, the second element is $x_2$ and so on. If each element is in $\\mathbb{R}$ and the vector has $n$ elements, then the vector lies in the set formed by taking the Cartesian product of $\\mathbb{R}$ n times, denoted as $\\mathbb{R}^n$"
   ]
  },
  {
   "cell_type": "code",
   "execution_count": 4,
   "id": "e86d9fd7-6db8-4efa-b996-b3772ad7259a",
   "metadata": {},
   "outputs": [
    {
     "data": {
      "text/plain": [
       "(3,)"
      ]
     },
     "execution_count": 4,
     "metadata": {},
     "output_type": "execute_result"
    }
   ],
   "source": [
    "# Assume that x is a vector of [1,2,3]. Then we can convert it to NumPy array as follows\n",
    "x = np.array([1,2,3])\n",
    "\n",
    "# We can check its shape using the following code. Note that (3,) is a 1D dimension. It could be used as (3,1) or (1,3).\n",
    "x.shape"
   ]
  },
  {
   "cell_type": "markdown",
   "id": "09958c4b-e635-464c-b51e-a344b3efc8bf",
   "metadata": {},
   "source": [
    "- **Matrices** $\\mathbf{A}$: A matrix is a 2-D array of numbers, so each element is identified by two indices instead of just one. It is represented with uppercase name with bold.\n",
    "\n",
    "$$\\mathbf{A} = \\begin{bmatrix}A_{1,1} & A_{1,2} \\\\ A_{2,1} & A_{2,2} \\end{bmatrix}$$\n",
    "\n",
    "> If each element in $\\mathbf{A}$ is $\\mathbb{R}$ and the matrix has a height of $m$ and a width of $n$, then we say $\\mathbf{A} \\in \\mathbb{R}^{m \\times n}$. The element is represented by its name in italics and the subscripts $(i,j)$. $A_{i,j}$ refers to the element located at the ith row and j's column. We can use $A_{i,:}$ to represent the row vector at ith row. And $A_{:,j}$ to represent the column vector at jth column. Besides, $f(\\mathbf{A})_{i,j}$ gives element $(i,j)$ of the matrix computed by applying the function $f$ to $\\mathbf{A}$"
   ]
  },
  {
   "cell_type": "code",
   "execution_count": 7,
   "id": "f7fc2fe3-4a15-4982-a735-720d3a5009bd",
   "metadata": {},
   "outputs": [
    {
     "data": {
      "text/plain": [
       "(2, 2)"
      ]
     },
     "execution_count": 7,
     "metadata": {},
     "output_type": "execute_result"
    }
   ],
   "source": [
    "# Assume that x is a 2x2 matrix. Then we can convert it to NumPy array as follows\n",
    "A = np.array([[1,2],[3,4]])\n",
    "\n",
    "# We can check its shape using the following code.\n",
    "A.shape"
   ]
  },
  {
   "cell_type": "markdown",
   "id": "4e8bac83-3000-41cc-b00d-7a04842c4e97",
   "metadata": {},
   "source": [
    "- **Tensors** **A**: Tensors refers to araay with more than two axes. For example, the element in three dimension tensors will be denoted as $\\mathbf{A}_{i,j,k}$"
   ]
  },
  {
   "cell_type": "code",
   "execution_count": 8,
   "id": "3059310e-18eb-4bee-8098-187e0b350f07",
   "metadata": {},
   "outputs": [
    {
     "name": "stdout",
     "output_type": "stream",
     "text": [
      "[[[0.59002823 0.07188662 0.3249033  0.04258052]\n",
      "  [0.45066696 0.26455611 0.50177915 0.18408177]\n",
      "  [0.43086988 0.65608907 0.45279997 0.61763061]]\n",
      "\n",
      " [[0.66967302 0.03087927 0.39188447 0.4152889 ]\n",
      "  [0.29840969 0.61133251 0.45948126 0.46662559]\n",
      "  [0.81499881 0.06608919 0.28045881 0.256501  ]]]\n"
     ]
    },
    {
     "data": {
      "text/plain": [
       "(2, 3, 4)"
      ]
     },
     "execution_count": 8,
     "metadata": {},
     "output_type": "execute_result"
    }
   ],
   "source": [
    "# Assume that x is a 2x3x4 tensor. Then we can convert it to NumPy array as follows\n",
    "A = np.random.rand(2,3,4)\n",
    "print(A)\n",
    "# We can check its shape using the following code.\n",
    "A.shape"
   ]
  },
  {
   "cell_type": "markdown",
   "id": "9a54f93c-384b-40f3-b295-b680472b16b7",
   "metadata": {},
   "source": [
    "Next, we will look into **transpose**. The transpose of a matrix is the mirror image of the matrix across a diagonal line, called the **main diagonal**, running down to the right, starting from its upper left corner, represented as $[A_{1,1},A_{2,2}]$ given the matrix below.\n",
    "\n",
    "$$\\mathbf{A} = \\begin{bmatrix}A_{1,1} & A_{1,2} \\\\ A_{2,1} & A_{2,2}\\\\ A_{3,1} & A_{3,2} \\end{bmatrix}$$\n",
    "\n",
    "The transpose of a matrix $\\mathbf{A}$, denoted as $\\mathbf{A}^T$.\n",
    "\n",
    "$$(\\mathbf{A}^T)_{i,j} = A_{j,i}$$\n",
    "\n",
    "Therefore, the transpose matrix of a $(m\\times n)$ matrix will be in shape $(n \\times m)$\n",
    "$$\\mathbf{A} = \\begin{bmatrix}A_{1,1} & A_{1,2} \\\\ A_{2,1} & A_{2,2}\\\\ A_{3,1} & A_{3,2} \\end{bmatrix}$$\n",
    "$$\\mathbf{A}^T = \\begin{bmatrix}A_{1,1} & A_{2,1} & A_{3,1} \\\\ A_{1,2} & A_{2,2} & A_{3,2} \\end{bmatrix}$$\n",
    "\n",
    "Now, let's apply the transpose to different types of objects in the Numpy library. With the Numpy library, we use the function [transpose](https://numpy.org/doc/stable/reference/generated/numpy.transpose.html). "
   ]
  },
  {
   "cell_type": "code",
   "execution_count": 9,
   "id": "81ca2b4d-a0e8-41e8-912a-10efb8ec1150",
   "metadata": {},
   "outputs": [],
   "source": [
    "# Matrix\n",
    "a = np.array(1)\n",
    "a.shape\n",
    "a.T"
   ]
  },
  {
   "cell_type": "code",
   "execution_count": null,
   "id": "480a393b-3a83-44ed-a015-3f6204ff94db",
   "metadata": {},
   "outputs": [],
   "source": []
  }
 ],
 "metadata": {
  "kernelspec": {
   "display_name": "Python 3 (ipykernel)",
   "language": "python",
   "name": "python3"
  },
  "language_info": {
   "codemirror_mode": {
    "name": "ipython",
    "version": 3
   },
   "file_extension": ".py",
   "mimetype": "text/x-python",
   "name": "python",
   "nbconvert_exporter": "python",
   "pygments_lexer": "ipython3",
   "version": "3.12.7"
  }
 },
 "nbformat": 4,
 "nbformat_minor": 5
}
