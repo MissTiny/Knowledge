{
 "cells": [
  {
   "cell_type": "markdown",
   "id": "48cbaa00-0ac1-4ce6-8643-45fd7657c985",
   "metadata": {},
   "source": [
    "# Linear Algebra in Deep Learning with Numpy library\n",
    "This notebook contains basic linear algebra knowledge that will be used in deep learning context. Most of the content comes from [Goodfellow, I. (2016). Deep learning. Chapter 2](https://www.deeplearningbook.org/contents/linear_algebra.html) and combined with corresponding useful numpy packages."
   ]
  },
  {
   "cell_type": "code",
   "execution_count": null,
   "id": "22e255f3",
   "metadata": {
    "vscode": {
     "languageId": "plaintext"
    }
   },
   "outputs": [],
   "source": [
    "# potential useful packages\n"
   ]
  },
  {
   "cell_type": "code",
   "execution_count": null,
   "id": "1c59325e",
   "metadata": {
    "vscode": {
     "languageId": "plaintext"
    }
   },
   "outputs": [],
   "source": []
  },
  {
   "cell_type": "markdown",
   "id": "8bf117eb-2936-47bf-a118-8f7ba74bf0f6",
   "metadata": {},
   "source": [
    "## Scalars, Vectors, Matrices and Tensors"
   ]
  },
  {
   "cell_type": "markdown",
   "id": "b78bf987",
   "metadata": {
    "vscode": {
     "languageId": "plaintext"
    }
   },
   "source": [
    "Linear algebra involves three types of mathematical objects:"
   ]
  },
  {
   "cell_type": "markdown",
   "id": "35a534e2",
   "metadata": {
    "vscode": {
     "languageId": "plaintext"
    }
   },
   "source": [
    "- Scalars *a*: A scalar is a single number which is usually written in lowercase italics format. It could be integers, real, natural number, etc. In terms of numpy code, we will have the following representation:"
   ]
  },
  {
   "cell_type": "code",
   "execution_count": null,
   "id": "6f3a6dc2",
   "metadata": {
    "vscode": {
     "languageId": "plaintext"
    }
   },
   "outputs": [],
   "source": [
    "a = "
   ]
  }
 ],
 "metadata": {
  "kernelspec": {
   "display_name": "Python 3 (ipykernel)",
   "language": "python",
   "name": "python3"
  },
  "language_info": {
   "codemirror_mode": {
    "name": "ipython",
    "version": 3
   },
   "file_extension": ".py",
   "mimetype": "text/x-python",
   "name": "python",
   "nbconvert_exporter": "python",
   "pygments_lexer": "ipython3",
   "version": "3.12.7"
  }
 },
 "nbformat": 4,
 "nbformat_minor": 5
}
