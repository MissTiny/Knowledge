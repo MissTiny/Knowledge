{
 "cells": [
  {
   "cell_type": "markdown",
   "id": "f0a5ff00-b853-467a-88f8-ea5ba2ac6120",
   "metadata": {},
   "source": [
    "This is the reading note for [Computational Creativity by Veale, T., & Cardoso, A. (2019)](https://link.springer.com/content/pdf/10.1007/978-3-319-43610-4.pdf)."
   ]
  },
  {
   "cell_type": "markdown",
   "id": "894c7d56-c9d3-4616-abef-75c2cf8059e2",
   "metadata": {},
   "source": [
    "# Chapter 1"
   ]
  },
  {
   "cell_type": "markdown",
   "id": "c41c6db6-28e9-4c5e-8c78-8c87372f2429",
   "metadata": {},
   "source": [
    "## From C to CC"
   ]
  },
  {
   "cell_type": "markdown",
   "id": "ba979e0e-4617-4470-94f1-87f4f2ac3fa9",
   "metadata": {},
   "source": [
    "**Creativity** definition is believed to have the following property:\n",
    "- **heterogeneity (domain-specific)**: creativity in spots differs from creativity in arts.\n",
    "- In general, bending and subverting conventions are the nature of creativity.\n",
    "\n",
    "Instead of paying attention to the definition of creativity, computational creativity researchers focus on *novel* or *surprising* behaviors that generate *unexpected value*.\n",
    "\n",
    "  \n",
    "**Computational Creativity (CC)** has the **application** of stories, poems, metaphors, riddles, jokes, paintings, music compositions, games, etc."
   ]
  },
  {
   "cell_type": "code",
   "execution_count": null,
   "id": "752e9169-db99-46c2-8526-26be4bd4faf4",
   "metadata": {},
   "outputs": [],
   "source": []
  }
 ],
 "metadata": {
  "kernelspec": {
   "display_name": "Python 3 (ipykernel)",
   "language": "python",
   "name": "python3"
  },
  "language_info": {
   "codemirror_mode": {
    "name": "ipython",
    "version": 3
   },
   "file_extension": ".py",
   "mimetype": "text/x-python",
   "name": "python",
   "nbconvert_exporter": "python",
   "pygments_lexer": "ipython3",
   "version": "3.12.7"
  }
 },
 "nbformat": 4,
 "nbformat_minor": 5
}
