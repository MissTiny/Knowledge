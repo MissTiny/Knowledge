{
 "cells": [
  {
   "cell_type": "markdown",
   "id": "9db43a68-6f0b-48f2-8777-2ebff511189f",
   "metadata": {},
   "source": [
    "This is the reading notes for [Data Science for Business by Foster Provost and Tom Fawcett](https://www.advisory21.com.mt/wp-content/uploads/2023/05/Data-Science-for-Business.pdf)"
   ]
  },
  {
   "cell_type": "markdown",
   "id": "b9edc794-8122-4977-ba48-62e134aefa4c",
   "metadata": {},
   "source": [
    "# Chapter 1: Introduction - Data-Analytic Thinking"
   ]
  },
  {
   "cell_type": "markdown",
   "id": "61106ce0-9d98-454d-b519-1198b0b4ae48",
   "metadata": {},
   "source": [
    "**Principles**\n",
    "- Data, and the capability to extract useful knowledge from data, should be regarded as key strategy assets"
   ]
  },
  {
   "cell_type": "markdown",
   "id": "86e89cd6-e4f0-4b1a-babe-752bce632bf2",
   "metadata": {},
   "source": [
    "**Fundamental concepts**\n",
    "- Extracting useful knowledge from data to solve business problems can be treated systematically by following a process with reasonably well-defined stages.\n",
    "- From a large mass of data, information technology can be used to find informative descriptive attributes of entities of interest.\n",
    "- If you look too hard at a set of data, you will find something - but it might not generalize beyond the data you're looking at. **Overfitting**\n",
    "- Formulating data mining solutions and evaluating the results involves thinking carefully about the context in which they will be used."
   ]
  },
  {
   "cell_type": "markdown",
   "id": "63facfec-3755-452d-afb8-6445c68cc2bb",
   "metadata": {},
   "source": [
    "# Chapter 2: Business Problems and Data Science Solutions"
   ]
  },
  {
   "cell_type": "markdown",
   "id": "e9b67adc-9f2b-493c-a8e4-e2b5bf36f70b",
   "metadata": {},
   "source": [
    "## Type of Tasks"
   ]
  },
  {
   "cell_type": "markdown",
   "id": "ecfa27c2-9f90-4ca9-a242-9e8d1f9c3950",
   "metadata": {},
   "source": [
    "**Supervised V.S. Unsupervised**\n",
    "\n",
    "When there is target, the task is called **Supervised** task. When there is no target, the task is called **Unsupervised** task.\n",
    "\n",
    "Within **Supervised Tasks**, task can be divided into **Regression** Task and **Classification** Task. \n",
    "- *Regression* deals with numeric targets, such as house pricing.\n",
    "- *Classification* deals with categorical targets; in most cases, it is **binary** (Yes or No). It could also be **multi-class**, such as animal identification (Cats, Dogs, and Birds). Predictions regarding probabilities, although they seem to be regression (continuous), is indeed Classification. For example, when predicting a binary task, such as whether the customer will churn, the output would be probabilities of churning. It needs additional processes to convert the probability into binary classification."
   ]
  },
  {
   "cell_type": "markdown",
   "id": "f5a2eb92-542c-4d4f-94fe-12b4bb8cfbcb",
   "metadata": {},
   "source": [
    "**Data Mining Process**\n",
    "\n",
    "The data mining process contains two parts: **Mining** and **Use**\n",
    "- mining data to find patterns and build models.\n",
    "    - E.g. The production of the probability estimation model M is the *Mining* process. \n",
    "- Using the results of data mining. It is called **Implementation** process.\n",
    "    - E.g. The model M takes characteristics as input and produces a score or probability estimate of target"
   ]
  },
  {
   "cell_type": "markdown",
   "id": "46113fdc-1c13-41a1-904c-713118880e86",
   "metadata": {},
   "source": [
    "## Data Mining Process"
   ]
  },
  {
   "attachments": {},
   "cell_type": "markdown",
   "id": "7aec4569-3702-4a1e-bcb3-32cd1ff6cdf7",
   "metadata": {},
   "source": [
    "**Cross Industry Standard Process for Data Mining (CRISP-DM)** [Shearer, 2000](https://mineracaodedados.wordpress.com/wp-content/uploads/2012/04/the-crisp-dm-model-the-new-blueprint-for-data-mining-shearer-colin.pdf)\n",
    "\n",
    "<div style=\"text-align:center;\">\n",
    "  <img height=\"100%\" width=\"50%\" src=\"sources/Ch2_1.png\" />\n",
    "</div>"
   ]
  },
  {
   "cell_type": "markdown",
   "id": "74bfad9a-a26d-482c-b967-f1915ac1158e",
   "metadata": {},
   "source": []
  },
  {
   "cell_type": "markdown",
   "id": "8134c311-c688-44cb-861d-323d618823fb",
   "metadata": {},
   "source": [
    "# Chapter 3: Introduction to Predictive Modeling: From Correlation to Supervised Segmentation"
   ]
  },
  {
   "cell_type": "markdown",
   "id": "536259c9-7fa1-484c-8e07-b8504679ad21",
   "metadata": {},
   "source": []
  },
  {
   "cell_type": "markdown",
   "id": "bf363e7d-e86c-43a6-8893-73c4eb653a26",
   "metadata": {},
   "source": [
    "# Chapter 4: Fitting a Model to Data"
   ]
  },
  {
   "cell_type": "markdown",
   "id": "e22714ea-539f-4553-8085-945fa4a7d73f",
   "metadata": {},
   "source": []
  },
  {
   "cell_type": "markdown",
   "id": "bbe27038-dae2-45f5-8996-5c7e8d4a0429",
   "metadata": {},
   "source": [
    "# Chapter 5: Overfitting and Its Avoidance"
   ]
  },
  {
   "cell_type": "code",
   "execution_count": null,
   "id": "1a6f7b95-e91d-4933-8d63-34e9f5f2823d",
   "metadata": {},
   "outputs": [],
   "source": []
  }
 ],
 "metadata": {
  "kernelspec": {
   "display_name": "Python 3 (ipykernel)",
   "language": "python",
   "name": "python3"
  },
  "language_info": {
   "codemirror_mode": {
    "name": "ipython",
    "version": 3
   },
   "file_extension": ".py",
   "mimetype": "text/x-python",
   "name": "python",
   "nbconvert_exporter": "python",
   "pygments_lexer": "ipython3",
   "version": "3.12.7"
  }
 },
 "nbformat": 4,
 "nbformat_minor": 5
}
