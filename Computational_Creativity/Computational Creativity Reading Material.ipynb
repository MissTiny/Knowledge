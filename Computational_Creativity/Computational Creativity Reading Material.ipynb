{
 "cells": [
  {
   "cell_type": "markdown",
   "metadata": {},
   "source": [
    "# Outlines"
   ]
  },
  {
   "cell_type": "markdown",
   "metadata": {},
   "source": [
    "## Definition"
   ]
  },
  {
   "cell_type": "markdown",
   "metadata": {},
   "source": [
    "## Measurement"
   ]
  },
  {
   "cell_type": "markdown",
   "metadata": {},
   "source": [
    "- [Evaluating Machine Creativity](#Pease-Winterstein-and-Colton-2001) by [Alison Pease,Daniel Winterstein and Simon Colton 2001](https://citeseerx.ist.psu.edu/document?repid=rep1&type=pdf&doi=789dc27632168f1fec613fff889247369c4e3caa)"
   ]
  },
  {
   "cell_type": "markdown",
   "metadata": {},
   "source": [
    "## Human-AI Collaboration"
   ]
  },
  {
   "cell_type": "markdown",
   "metadata": {},
   "source": [
    "- [Designing Human and Generative AI Collaboration](#Hosanagar-and-Ahn-2024) by [Kartik Hosanagar and Daehwan Ahn 2024](https://arxiv.org/abs/2412.14199)"
   ]
  },
  {
   "cell_type": "markdown",
   "metadata": {},
   "source": [
    "## Arts"
   ]
  },
  {
   "cell_type": "markdown",
   "metadata": {},
   "source": [
    "- The Painting Fool (Colton, 2011)"
   ]
  },
  {
   "cell_type": "markdown",
   "metadata": {},
   "source": [
    "## Music"
   ]
  },
  {
   "cell_type": "markdown",
   "metadata": {},
   "source": [
    "- Johnson & Ventura 2016\n",
    "- Morray & Ventura 2012s"
   ]
  },
  {
   "cell_type": "markdown",
   "metadata": {},
   "source": [
    "## Cooking"
   ]
  },
  {
   "cell_type": "markdown",
   "metadata": {},
   "source": [
    "- Morris, Burton, Bodily, & Ventura 2012"
   ]
  },
  {
   "cell_type": "markdown",
   "metadata": {},
   "source": [
    "## Games"
   ]
  },
  {
   "cell_type": "markdown",
   "metadata": {},
   "source": [
    "- Lebaron, Mitchell & Ventura 2015"
   ]
  },
  {
   "cell_type": "markdown",
   "metadata": {},
   "source": [
    "## Language"
   ]
  },
  {
   "cell_type": "markdown",
   "metadata": {},
   "source": [
    "- Smith,Hintze & Ventura 2014"
   ]
  },
  {
   "cell_type": "markdown",
   "metadata": {},
   "source": [
    "# Literature Short Summary"
   ]
  },
  {
   "cell_type": "markdown",
   "metadata": {
    "jp-MarkdownHeadingCollapsed": true
   },
   "source": [
    "## Summarizing Template"
   ]
  },
  {
   "cell_type": "markdown",
   "metadata": {},
   "source": [
    "### 1. Question"
   ]
  },
  {
   "cell_type": "markdown",
   "metadata": {},
   "source": []
  },
  {
   "cell_type": "markdown",
   "metadata": {},
   "source": [
    "### 2. Contribution"
   ]
  },
  {
   "cell_type": "markdown",
   "metadata": {},
   "source": []
  },
  {
   "cell_type": "markdown",
   "metadata": {},
   "source": [
    "### 3. Methodlogy"
   ]
  },
  {
   "cell_type": "markdown",
   "metadata": {},
   "source": []
  },
  {
   "cell_type": "markdown",
   "metadata": {},
   "source": [
    "### 4. Conclusion"
   ]
  },
  {
   "cell_type": "markdown",
   "metadata": {},
   "source": []
  },
  {
   "cell_type": "markdown",
   "metadata": {},
   "source": [
    "### 5. Details (Optional)"
   ]
  },
  {
   "cell_type": "markdown",
   "metadata": {},
   "source": []
  },
  {
   "cell_type": "markdown",
   "metadata": {},
   "source": [
    "## Hosanagar and Ahn 2024\n",
    "[Designing Human and Generative AI Collaboration](#Hosanagar-and-Ahn-2024) by [Kartik Hosanagar and Daehwan Ahn 2024](https://arxiv.org/abs/2412.14199)\n",
    "\n",
    "**Key Words**: Survey with Students, Lab Experiment, Behavioral, Economictrics."
   ]
  },
  {
   "cell_type": "markdown",
   "metadata": {},
   "source": [
    "### 1. Question"
   ]
  },
  {
   "cell_type": "markdown",
   "metadata": {},
   "source": [
    "How to design Human-AI Collaboration and why?"
   ]
  },
  {
   "cell_type": "markdown",
   "metadata": {},
   "source": [
    "### 2. Contribution"
   ]
  },
  {
   "cell_type": "markdown",
   "metadata": {},
   "source": [
    "**Past** articles examine Human-AI collations on different tasks, such as software development, customer support, consulting, and professional writing. However, in such collaborations, AI is involved in different stages and different level. For example, AI only involves script generation, but humans engage in more creative tasks. In another example, humans are only accepting or rejecting AI outputs. There is no comparison between different ways of collaboration.\n",
    "\n",
    "**This research** tries to find a better way of human-AI collaboration in creative writing."
   ]
  },
  {
   "cell_type": "markdown",
   "metadata": {},
   "source": [
    "### 3. Methodology"
   ]
  },
  {
   "cell_type": "markdown",
   "metadata": {},
   "source": [
    "2-day classroom experiment of creative writing with 285 students.\n",
    "\n",
    "**Day 1**: Write 1000 word stories without AI.\n",
    "\n",
    "**Day 2**: Write 1000 word stories with AI\n",
    "- Students are randomly divided into *Human Confirmation*(AI Write, Human Accept or Reject), *Human Creativity* (Human perform pre-production - ideation and outlining) and *Copilot* (Humans and AI Collaborate)."
   ]
  },
  {
   "cell_type": "markdown",
   "metadata": {},
   "source": [
    "### 4. Conclusion"
   ]
  },
  {
   "cell_type": "markdown",
   "metadata": {},
   "source": [
    "- Collaboration Mode Matters\n",
    "- AI boost the quality of work of low-skilled writers more than high-skill writers\n",
    "- High skill writers need more flexibility when using AI, while low skilled writers can benefit from AI model in all mode."
   ]
  },
  {
   "cell_type": "markdown",
   "metadata": {},
   "source": [
    "### 5. Details (Optional)"
   ]
  },
  {
   "cell_type": "markdown",
   "metadata": {},
   "source": [
    "**Creativity Definition**: Novel and Value from [T.M. Amabile (1983)](https://psycnet.apa.org/record/1984-06764-001).\n",
    "\n",
    "With regard to **creative writing**, there are four stages: ideation, outlining, drafting and editing [(L.Flower)](https://www.jstor.org/stable/356600?seq=1). The first two belong to the pre-production phase, and the last two belong to the production phase.\n",
    "\n",
    "**Conclusion Detail:**\n",
    "1) **Completion Time** reduced with AI assistant. The editing time takes a larger porpotion when using AI.\n",
    "2) **Writing Quality** : The quality of writing is significant higher in Human Creativity and Copilot group. While in Human Confirmation, quality is not significantly decreased and the slope was driven by higher-skilled being less effective. \n",
    "    - This means that AI provides more opportunity for high-skilled users to outperform.\n",
    "    - Creative person produced higher quality work can be mediated by AI.\n",
    "4) **User Satisfaction**:\n",
    "    - Human prefers more with Human Creativity and Copilot.\n",
    "6) **Content Diversity**\n",
    "    - AI shifted the story from personal experience-based narratives to more imaginative types\n",
    "    - AI-assisted writing makes more semantic similarities among stories\n",
    "8) **Reflection Feedback**\n",
    "    - Benefitted: Efficiency(AI improve structure; reducing writing time; aiding planning); Creativity and Idea Generation (diverse storylines and iterative refinement); Language and Structural Support (enhance grammar, coherence, and fact-checking)\n",
    "    - Challenge: Authenticity and Emotional Depth, Technical and Logical Consistency, Originality and Nuance."
   ]
  },
  {
   "cell_type": "markdown",
   "metadata": {},
   "source": [
    "## Pease Winterstein and Colton 2001\n",
    "[Evaluating Machine Creativity](#Pease-Winterstein-and-Colton-2001) by [Alison Pease,Daniel Winterstein and Simon Colton 2001](https://citeseerx.ist.psu.edu/document?repid=rep1&type=pdf&doi=789dc27632168f1fec613fff889247369c4e3caa)"
   ]
  },
  {
   "cell_type": "markdown",
   "metadata": {},
   "source": []
  },
  {
   "cell_type": "markdown",
   "metadata": {},
   "source": [
    "# Karampiperis et al Storytelling"
   ]
  },
  {
   "cell_type": "code",
   "execution_count": null,
   "metadata": {},
   "outputs": [],
   "source": []
  },
  {
   "cell_type": "markdown",
   "metadata": {
    "jp-MarkdownHeadingCollapsed": true
   },
   "source": [
    "## Summarizing Template"
   ]
  }
 ],
 "metadata": {
  "kernelspec": {
   "display_name": "Python 3 (ipykernel)",
   "language": "python",
   "name": "python3"
  },
  "language_info": {
   "codemirror_mode": {
    "name": "ipython",
    "version": 3
   },
   "file_extension": ".py",
   "mimetype": "text/x-python",
   "name": "python",
   "nbconvert_exporter": "python",
   "pygments_lexer": "ipython3",
   "version": "3.12.7"
  }
 },
 "nbformat": 4,
 "nbformat_minor": 4
}
