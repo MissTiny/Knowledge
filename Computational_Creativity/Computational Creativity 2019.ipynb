{
 "cells": [
  {
   "cell_type": "markdown",
   "id": "f0a5ff00-b853-467a-88f8-ea5ba2ac6120",
   "metadata": {},
   "source": [
    "This is the reading note for [Computational Creativity by Veale, T., & Cardoso, A. (2019)](https://link.springer.com/content/pdf/10.1007/978-3-319-43610-4.pdf)."
   ]
  },
  {
   "cell_type": "markdown",
   "id": "894c7d56-c9d3-4616-abef-75c2cf8059e2",
   "metadata": {},
   "source": [
    "# Chapter 1: Systematizing Creativity: A Computational View"
   ]
  },
  {
   "cell_type": "markdown",
   "id": "ba979e0e-4617-4470-94f1-87f4f2ac3fa9",
   "metadata": {},
   "source": [
    "## **Creativity Definitions and Properties**"
   ]
  },
  {
   "cell_type": "markdown",
   "id": "1095fbdd-1f69-4b49-a2ea-71d469888cf3",
   "metadata": {},
   "source": [
    "*Creativity Definitions in General:*\n",
    "- *Creativity Word:* Bend and subvert conventions, resolvable contradictions.\n",
    "- *Creative Behavior:* Unexpected -  *novel* or *surprising* behaviors that generate *unexpected value*.\n",
    "- *Creative Solution:* Novelty and usefulness; Bent Conventions; Strong Motivation; Clarification of vague - Insights (Newell, Shaw, and Simon 1963)"
   ]
  },
  {
   "cell_type": "markdown",
   "id": "cb564882-2559-47ff-898b-260962dc6ba7",
   "metadata": {},
   "source": [
    "*How Researchers Define in Practice:*\n",
    "1) Ad-hoc Definition in practice, instead of phenomenon objectively definition\n",
    "2) Embrace the metaphorical foundation of creativity. Focus on the processes and mechanisms of computational algorithms.\n",
    "3) Archetypal Area of creative endeavor where the formal definition is not needed, such as design."
   ]
  },
  {
   "cell_type": "markdown",
   "id": "c34a75ab-3a41-4b54-913a-753cc1b53a63",
   "metadata": {},
   "source": [
    "<ins>**Principal Goal**: Let Machines exhibit human-level creativity that humans will also perceive as 'creative'</ins>:"
   ]
  },
  {
   "cell_type": "markdown",
   "id": "9642a559-4848-4d2f-acb5-5178f0021040",
   "metadata": {},
   "source": [
    "## **Computational Creativity (CC) Application**:"
   ]
  },
  {
   "cell_type": "markdown",
   "id": "d0da4d93-b456-41fa-a302-a08d3ad6f010",
   "metadata": {},
   "source": [
    "- Stories\n",
    "- Poems\n",
    "- Metaphors\n",
    "- Riddles\n",
    "- Jokes\n",
    "- Paintings\n",
    "- Music Compositions\n",
    "- Games"
   ]
  },
  {
   "cell_type": "markdown",
   "id": "50b9f3f3-0c98-4bec-8c9d-2b7735aef973",
   "metadata": {},
   "source": [
    "## **Research Questions**"
   ]
  },
  {
   "cell_type": "markdown",
   "id": "8388c01f-7d82-41c0-8427-b016d63d40f8",
   "metadata": {},
   "source": [
    "*Specific Questions:*\n",
    "- What is \"creative\"? Where is creative reside, producer, process, product, or combination?\n",
    "- How is the relationship between expertise (specialized domain knowledge) and creativity?\n",
    "- How does \"creativity\" exploit and subvert norms and expectations?\n",
    "- How are outputs evaluated? How can we measure creativity? What is a creative work?\n",
    "- What is \"creativity\" in different domains?\n",
    "- How does creativity emerge from group behavior or collective actions?\n",
    "- What cognitive paradigms offer explanatory theories of creativity (search in conceptual space, conceptual blending, biociation)?"
   ]
  },
  {
   "cell_type": "markdown",
   "id": "c0b39804-bf82-4201-9cb8-b16b8747e6df",
   "metadata": {},
   "source": [
    "<div style=\"color:orange\">[My Summary]</div> \n",
    "\n",
    "<ins>*In summary, current research questions fall into the following aspects*</ins>:\n",
    "1) Definition of creativity, creative work across or within different domains.\n",
    "2) Evaluation of creativity.\n",
    "3) Search for Creative Solutions."
   ]
  },
  {
   "cell_type": "markdown",
   "id": "25282fcb-ea95-4aa7-83f1-bca2486643b2",
   "metadata": {},
   "source": [
    "## **Discussions**"
   ]
  },
  {
   "cell_type": "markdown",
   "id": "363d9b42-d82f-4553-a659-67703a809a92",
   "metadata": {},
   "source": [
    "### <ins>*Difference Between generative outputs and creative outputs*</ins>"
   ]
  },
  {
   "cell_type": "markdown",
   "id": "36fa7bad-8866-4600-99f7-ee0c12c4a9f6",
   "metadata": {},
   "source": [
    "Basic Generative Models outputs are not considered <ins>*creative*</ins> because these outputs are called <ins>*pastiche*</ins> where models are mimic and recycle based on training dataset instead of innovate. In order to generate *creative* outputs, computers need to have 1) a view of creativity, such as why a product is creative 2) the ability to filter outputs based on value and quality.\n",
    "\n",
    "Creative System need to learn from failure output, however, <ins>*pastiche*</ins> system takes no risk and always produce well-formed outputs."
   ]
  },
  {
   "cell_type": "markdown",
   "id": "991a3c2e-400c-456a-9650-972d69d1a13c",
   "metadata": {},
   "source": [
    "### <ins>*Brief Discussion on Search in Solution Space*</ins>"
   ]
  },
  {
   "cell_type": "markdown",
   "id": "e2fa8fc1-5448-46ea-a05d-be0a4f338166",
   "metadata": {},
   "source": [
    "There are two types of search.\n",
    "\n",
    "1) *Exploratory Creativity*: Explores the space as it is defined by the problem, looking from previously undiscovered or unappreciated states of <ins>unexpectedly</ins> high-value\n",
    "2) *Transformational Creativity*: The transformation of the space redefines the criteria of value that drives the search of value in new space."
   ]
  },
  {
   "cell_type": "markdown",
   "id": "daa316df-1ec8-48da-aef1-c36816d9140a",
   "metadata": {},
   "source": [
    "### <ins>*Two focus of ICCC*</ins>"
   ]
  },
  {
   "cell_type": "markdown",
   "id": "487f48be-5f2c-40a3-8b8f-e6d254a6688e",
   "metadata": {},
   "source": [
    "1) autonomous system with no human inputs\n",
    "2) semiautonomous hybrid systems that interact with humans as peers"
   ]
  },
  {
   "cell_type": "markdown",
   "id": "9978e692-c059-44a4-a865-1ac4860b2790",
   "metadata": {},
   "source": [
    "### <ins>*Useful Resources*</ins>"
   ]
  },
  {
   "cell_type": "markdown",
   "id": "6811da5e-f835-4212-b24a-784f2cbc0eeb",
   "metadata": {},
   "source": [
    "- [Association Computational Creativity](https://computationalcreativity.net/)\n",
    "    - This is the associated of computational creativity group. They held International Computational Creativity Conference (ICCC) every year since 2010.\n",
    "- [Non-official Characterization list (NOC list)](https://github.com/prosecconetwork/The-NOC-List)\n",
    "    - It provides semantic detail about a large cast of famous personalities (~800) and their attributes.\n",
    "- [Scealextric](https://github.com/prosecconetwork/Scealextric)\n",
    "    - This helps with automated story generation."
   ]
  },
  {
   "cell_type": "markdown",
   "id": "1243f1d6-40e9-4691-88f5-490288ecc6ce",
   "metadata": {},
   "source": [
    "# Chapter 2: A Framework for Description, Analysis and Comparison of Creative Systems"
   ]
  },
  {
   "cell_type": "markdown",
   "id": "7be1caa8-c9c7-4785-9b63-e6df4c254424",
   "metadata": {},
   "source": []
  },
  {
   "cell_type": "markdown",
   "id": "1ccea6d0-2e63-46d8-a650-3db657707823",
   "metadata": {},
   "source": [
    "# Chapter 3: Autonomous Intentionality in Computationally Creative Systems"
   ]
  },
  {
   "cell_type": "markdown",
   "id": "373c1dd9-9e52-489f-ab89-4314534c04a2",
   "metadata": {},
   "source": [
    "# Chapter 4: From Conceptual Mash-ups to Badass Blends: A Robust Computational Model of Conceptual Blending"
   ]
  },
  {
   "cell_type": "markdown",
   "id": "38f014b3-fc90-4598-a5da-9a9e2703f759",
   "metadata": {},
   "source": [
    "# Chapter 5: The Nuts and Blots of Conceptual Blending: Multidomain Concept Creation with Divago"
   ]
  },
  {
   "cell_type": "markdown",
   "id": "96e3a3c1-42b0-4f79-8919-23ee7300144b",
   "metadata": {},
   "source": [
    "# Chapter 6: Bisociative Knowledge Discovery for Cross-domain Literature Mining"
   ]
  },
  {
   "cell_type": "markdown",
   "id": "8652411c-4046-4936-9c0b-2e2eb1b9dd18",
   "metadata": {},
   "source": [
    "# Chapter 7: Computational Design, Analogy and Creativity"
   ]
  },
  {
   "cell_type": "markdown",
   "id": "cc945766-529a-4887-beec-94b706348d33",
   "metadata": {},
   "source": [
    "# Chapter 8: The Evaluation of Creative Systems"
   ]
  },
  {
   "cell_type": "markdown",
   "id": "511117f4-b2fd-47d9-9807-6a60129b631c",
   "metadata": {},
   "source": [
    "# Chapter 9: Expectation-Based Models of Novelty for Evaluating Computational Creativity"
   ]
  },
  {
   "cell_type": "markdown",
   "id": "3f79eb02-c355-4f25-9c46-a7c8f09f1312",
   "metadata": {},
   "source": [
    "# Chapter 10: Evaluating Evaluation: Assessing Progress and Practices in Computational Creativity Research"
   ]
  },
  {
   "cell_type": "markdown",
   "id": "a7ce474e-10d1-4ab3-9b6c-5e312fe331ed",
   "metadata": {},
   "source": [
    "# Chapter 11: Computer-Supported Human Creativity and Human-Supported Computer Creativity in Language"
   ]
  },
  {
   "cell_type": "markdown",
   "id": "a9d5ff6b-5a23-4f44-84ef-76d026c18a32",
   "metadata": {},
   "source": [
    "# Chapter 12: Representing Social Common-Sense Knowledge in MEXICA"
   ]
  },
  {
   "cell_type": "markdown",
   "id": "c5c92575-64d5-4900-bcd9-9921ebeae473",
   "metadata": {},
   "source": [
    "# Chapter 13: Exploring Quantitative Evaluations of the Creativity of Automatic Poets"
   ]
  },
  {
   "cell_type": "markdown",
   "id": "d79823dd-941c-452d-a4d0-afa38768d5de",
   "metadata": {},
   "source": [
    "# Chapter 14: Multi-agent-based Models of Social Creativity"
   ]
  },
  {
   "cell_type": "markdown",
   "id": "f5aa00e0-c77b-4e63-aaeb-dd77750a9b27",
   "metadata": {},
   "source": [
    "# Chapter 15: Creative Systems: A Biological Perspective"
   ]
  },
  {
   "cell_type": "markdown",
   "id": "d253b0f6-bbf8-4d42-ab23-60fa44863958",
   "metadata": {},
   "source": [
    "# Chapter 16: Breaking the Mould"
   ]
  },
  {
   "cell_type": "code",
   "execution_count": null,
   "id": "a64da5bd-54a0-4faf-b6a1-8f35faaeb9ac",
   "metadata": {},
   "outputs": [],
   "source": []
  }
 ],
 "metadata": {
  "kernelspec": {
   "display_name": "Python 3 (ipykernel)",
   "language": "python",
   "name": "python3"
  },
  "language_info": {
   "codemirror_mode": {
    "name": "ipython",
    "version": 3
   },
   "file_extension": ".py",
   "mimetype": "text/x-python",
   "name": "python",
   "nbconvert_exporter": "python",
   "pygments_lexer": "ipython3",
   "version": "3.12.7"
  }
 },
 "nbformat": 4,
 "nbformat_minor": 5
}
